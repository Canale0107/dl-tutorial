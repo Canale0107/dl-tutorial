{
 "cells": [
  {
   "cell_type": "markdown",
   "metadata": {
    "id": "jEleuBBpyytD"
   },
   "source": [
    "2021 Takahiro Shinozaki @ Tokyo Tech\n",
    "\n",
    "Quick introduction of pytorch tensor and gradient calculation\n",
    "\n",
    "References: \n",
    "*   https://pytorch.org/tutorials/\n",
    "\n"
   ]
  },
  {
   "cell_type": "code",
   "execution_count": 1,
   "metadata": {
    "id": "uYQtTNDy5Btd"
   },
   "outputs": [],
   "source": [
    "import torch\n",
    "import torch.nn as nn\n",
    "from matplotlib import pyplot"
   ]
  },
  {
   "cell_type": "code",
   "execution_count": 2,
   "metadata": {
    "id": "Td_teMPo52EE"
   },
   "outputs": [
    {
     "name": "stdout",
     "output_type": "stream",
     "text": [
      "CUDA（GPU）is not available\n"
     ]
    }
   ],
   "source": [
    "if torch.cuda.is_available():\n",
    "    print('CUDA（GPU）is available')\n",
    "else:\n",
    "  print('CUDA（GPU）is not available')"
   ]
  },
  {
   "cell_type": "code",
   "execution_count": 3,
   "metadata": {
    "id": "0WuRawD56TOT"
   },
   "outputs": [
    {
     "name": "stdout",
     "output_type": "stream",
     "text": [
      "x = tensor(7)\n",
      "y = tensor(50)\n",
      "y = tensor(2.7183)\n",
      "y = tensor(0.5403)\n"
     ]
    }
   ],
   "source": [
    "# scalar \n",
    "x = torch.tensor(7)\n",
    "print('x =', x)\n",
    "\n",
    "y = x**2+1\n",
    "print('y =', y)\n",
    "\n",
    "x = torch.tensor(1.0)\n",
    "y = torch.exp(x)\n",
    "print('y =', y)\n",
    "\n",
    "y = torch.cos(x)\n",
    "print('y =', y)"
   ]
  },
  {
   "cell_type": "code",
   "execution_count": 4,
   "metadata": {
    "id": "HX5vZKCBsjzZ"
   },
   "outputs": [
    {
     "name": "stdout",
     "output_type": "stream",
     "text": [
      "torch.int64\n",
      "torch.float32\n",
      "torch.float64\n"
     ]
    }
   ],
   "source": [
    "# data type\n",
    "x = torch.tensor(1)\n",
    "print(x.dtype)\n",
    "\n",
    "x = torch.tensor(1.0)\n",
    "print(x.dtype)\n",
    "\n",
    "x = torch.tensor(1.0, dtype=torch.float64)\n",
    "print(x.dtype)"
   ]
  },
  {
   "cell_type": "code",
   "execution_count": 12,
   "metadata": {
    "id": "snuMqMBFnn0B"
   },
   "outputs": [
    {
     "name": "stdout",
     "output_type": "stream",
     "text": [
      "x = tensor([1., 2., 3., 4., 5.])\n",
      "x**0.5 = tensor([1.0000, 1.4142, 1.7321, 2.0000, 2.2361])\n",
      "x = tensor([ 0.0000,  0.2500,  0.5000,  0.7500,  1.0000,  1.2500,  1.5000,  1.7500,\n",
      "         2.0000,  2.2500,  2.5000,  2.7500,  3.0000,  3.2500,  3.5000,  3.7500,\n",
      "         4.0000,  4.2500,  4.5000,  4.7500,  5.0000,  5.2500,  5.5000,  5.7500,\n",
      "         6.0000,  6.2500,  6.5000,  6.7500,  7.0000,  7.2500,  7.5000,  7.7500,\n",
      "         8.0000,  8.2500,  8.5000,  8.7500,  9.0000,  9.2500,  9.5000,  9.7500,\n",
      "        10.0000])\n",
      "x[2] tensor(0.5000)\n"
     ]
    },
    {
     "data": {
      "image/png": "[encoded data removed]",
      "text/plain": [
       "<Figure size 432x288 with 1 Axes>"
      ]
     },
     "metadata": {
      "needs_background": "light"
     },
     "output_type": "display_data"
    }
   ],
   "source": [
    "# vector\n",
    "x = torch.tensor([1,2,3,4,5], dtype=torch.float32)\n",
    "print('x =',x)\n",
    "print('x**0.5 =', x**0.5)\n",
    "x = torch.linspace(0,10,41)\n",
    "print('x =', x)\n",
    "print('x[2]', x[2])\n",
    "y = torch.cos(x)\n",
    "pyplot.plot(x, y)\n",
    "pyplot.xlabel('x')\n",
    "pyplot.ylabel('cos(x)')\n",
    "pyplot.grid()\n",
    "pyplot.show()"
   ]
  },
  {
   "cell_type": "code",
   "execution_count": 6,
   "metadata": {
    "id": "EdPif6XaowD3"
   },
   "outputs": [
    {
     "name": "stdout",
     "output_type": "stream",
     "text": [
      "tensor([[1, 2],\n",
      "        [3, 4]])\n",
      "torch.int64\n",
      "tensor([[2, 4],\n",
      "        [6, 8]])\n",
      "tensor([[ 1,  4],\n",
      "        [ 9, 16]])\n",
      "y = tensor([[ 7, 10],\n",
      "        [15, 22]])\n",
      "tensor([[1., 2.],\n",
      "        [3., 4.]])\n",
      "torch.float32\n",
      "tensor([[10.],\n",
      "        [10.]])\n",
      "torch.float32\n",
      "tensor([[30.],\n",
      "        [70.]])\n",
      "tensor([[1., 3.],\n",
      "        [2., 4.]])\n"
     ]
    }
   ],
   "source": [
    "# matrix\n",
    "x = torch.tensor([[1,2],[3,4]])\n",
    "print(x)\n",
    "print(x.dtype)\n",
    "\n",
    "y = x * 2\n",
    "print(y)\n",
    "\n",
    "y= x * x\n",
    "print(y)\n",
    "\n",
    "y = torch.mm(x, x)\n",
    "print('y =', y)\n",
    "\n",
    "x = torch.tensor([[1.0,2.0],[3.0,4.0]])\n",
    "b=torch.tensor([[10],[10]],dtype=torch.float32)\n",
    "print(x)\n",
    "print(x.dtype)\n",
    "print(b)\n",
    "print(b.dtype)\n",
    "\n",
    "y = torch.mm(x, b)\n",
    "print(y)\n",
    "\n",
    "y = torch.transpose(x, 0, 1)\n",
    "print(y)"
   ]
  },
  {
   "cell_type": "code",
   "execution_count": 7,
   "metadata": {
    "id": "XbFSRerVxcSL"
   },
   "outputs": [
    {
     "name": "stdout",
     "output_type": "stream",
     "text": [
      "tensor(4.5000)\n",
      "x = tensor(4.)\n",
      "f2(x) = tensor(13.)\n",
      "x = tensor([-10.,  -9.,  -8.,  -7.,  -6.,  -5.,  -4.,  -3.,  -2.,  -1.,   0.,   1.,\n",
      "          2.,   3.,   4.,   5.,   6.,   7.,   8.,   9.,  10.])\n",
      "f2(x) = tensor([97., 78., 61., 46., 33., 22., 13.,  6.,  1., -2., -3., -2.,  1.,  6.,\n",
      "        13., 22., 33., 46., 61., 78., 97.])\n"
     ]
    },
    {
     "data": {
      "image/png": "[encoded data removed]",
      "text/plain": [
       "<Figure size 432x288 with 1 Axes>"
      ]
     },
     "metadata": {
      "needs_background": "light"
     },
     "output_type": "display_data"
    }
   ],
   "source": [
    "# function\n",
    "def f1(x1, x2):\n",
    "  return 2*x1+x2\n",
    "\n",
    "a = torch.tensor(1.0)\n",
    "b = torch.tensor(2.5)\n",
    "print(f1(a,b))\n",
    "\n",
    "def f2(x):\n",
    "  return x**2-3\n",
    "\n",
    "x = torch.tensor(4.0)\n",
    "print('x =', x)\n",
    "print('f2(x) =', f2(x))\n",
    "\n",
    "x = torch.linspace(-10,10,21)\n",
    "print('x =', x)\n",
    "print('f2(x) =', f2(x))\n",
    "pyplot.plot(x, f2(x))\n",
    "pyplot.grid()\n",
    "pyplot.show()\n",
    "\n"
   ]
  },
  {
   "cell_type": "code",
   "execution_count": 8,
   "metadata": {
    "id": "wsqZaU8SxTYO"
   },
   "outputs": [
    {
     "name": "stdout",
     "output_type": "stream",
     "text": [
      "Requirement already satisfied: torchviz in c:\\users\\shinot\\anaconda3\\envs\\pytorch-cpu-pip\\lib\\site-packages (0.0.2)\n",
      "Requirement already satisfied: torch in c:\\users\\shinot\\anaconda3\\envs\\pytorch-cpu-pip\\lib\\site-packages (from torchviz) (1.9.0)\n",
      "Requirement already satisfied: graphviz in c:\\users\\shinot\\anaconda3\\envs\\pytorch-cpu-pip\\lib\\site-packages (from torchviz) (0.16)\n",
      "Requirement already satisfied: typing_extensions in c:\\users\\shinot\\anaconda3\\envs\\pytorch-cpu-pip\\lib\\site-packages (from torch->torchviz) (3.7.4.3)\n"
     ]
    }
   ],
   "source": [
    "# library to visualize the strucure of computation\n",
    "! pip install torchviz\n",
    "from torchviz import make_dot  "
   ]
  },
  {
   "cell_type": "markdown",
   "metadata": {
    "id": "DR5Hm5th2p2Z"
   },
   "source": [
    "# Derivative with scholar function\n",
    "\n",
    "$\\frac{\\partial}{\\partial x}(2x^2+3)|_{x=2} = 4x |_{x=2} = 8$\n"
   ]
  },
  {
   "cell_type": "code",
   "execution_count": 39,
   "metadata": {
    "id": "GBAEmqw3yq-a"
   },
   "outputs": [
    {
     "name": "stdout",
     "output_type": "stream",
     "text": [
      "x = tensor(2., requires_grad=True)\n",
      "x.grad = tensor(8.)\n",
      "x.grad = None\n",
      "z=  tensor(11., grad_fn=<AddBackward0>)\n",
      "x.grad = tensor(8.)\n"
     ]
    },
    {
     "data": {
      "image/svg+xml": [
       "<?xml version=\"1.0\" encoding=\"UTF-8\" standalone=\"no\"?>\r\n",
       "<!DOCTYPE svg PUBLIC \"-//W3C//DTD SVG 1.1//EN\"\r\n",
       " \"http://www.w3.org/Graphics/SVG/1.1/DTD/svg11.dtd\">\r\n",
       "<!-- Generated by graphviz version 2.47.3 (20210619.1520)\r\n",
       " -->\r\n",
       "<!-- Pages: 1 -->\r\n",
       "<svg width=\"109pt\" height=\"326pt\"\r\n",
       " viewBox=\"0.00 0.00 109.00 326.00\" xmlns=\"http://www.w3.org/2000/svg\" xmlns:xlink=\"http://www.w3.org/1999/xlink\">\r\n",
       "<g id=\"graph0\" class=\"graph\" transform=\"scale(1 1) rotate(0) translate(4 322)\">\r\n",
       "<polygon fill=\"white\" stroke=\"transparent\" points=\"-4,4 -4,-322 105,-322 105,4 -4,4\"/>\r\n",
       "<!-- 2299739274176 -->\r\n",
       "<g id=\"node1\" class=\"node\">\r\n",
       "<title>2299739274176</title>\r\n",
       "<polygon fill=\"#caff70\" stroke=\"black\" points=\"77.5,-31 23.5,-31 23.5,0 77.5,0 77.5,-31\"/>\r\n",
       "<text text-anchor=\"middle\" x=\"50.5\" y=\"-7\" font-family=\"monospace\" font-size=\"10.00\"> ()</text>\r\n",
       "</g>\r\n",
       "<!-- 2299739081504 -->\r\n",
       "<g id=\"node2\" class=\"node\">\r\n",
       "<title>2299739081504</title>\r\n",
       "<polygon fill=\"lightgrey\" stroke=\"black\" points=\"95,-86 6,-86 6,-67 95,-67 95,-86\"/>\r\n",
       "<text text-anchor=\"middle\" x=\"50.5\" y=\"-74\" font-family=\"monospace\" font-size=\"10.00\">AddBackward0</text>\r\n",
       "</g>\r\n",
       "<!-- 2299739081504&#45;&gt;2299739274176 -->\r\n",
       "<g id=\"edge5\" class=\"edge\">\r\n",
       "<title>2299739081504&#45;&gt;2299739274176</title>\r\n",
       "<path fill=\"none\" stroke=\"black\" d=\"M50.5,-66.79C50.5,-60.07 50.5,-50.4 50.5,-41.34\"/>\r\n",
       "<polygon fill=\"black\" stroke=\"black\" points=\"54,-41.19 50.5,-31.19 47,-41.19 54,-41.19\"/>\r\n",
       "</g>\r\n",
       "<!-- 2299739081072 -->\r\n",
       "<g id=\"node3\" class=\"node\">\r\n",
       "<title>2299739081072</title>\r\n",
       "<polygon fill=\"lightgrey\" stroke=\"black\" points=\"95,-141 6,-141 6,-122 95,-122 95,-141\"/>\r\n",
       "<text text-anchor=\"middle\" x=\"50.5\" y=\"-129\" font-family=\"monospace\" font-size=\"10.00\">MulBackward0</text>\r\n",
       "</g>\r\n",
       "<!-- 2299739081072&#45;&gt;2299739081504 -->\r\n",
       "<g id=\"edge1\" class=\"edge\">\r\n",
       "<title>2299739081072&#45;&gt;2299739081504</title>\r\n",
       "<path fill=\"none\" stroke=\"black\" d=\"M50.5,-121.75C50.5,-114.8 50.5,-104.85 50.5,-96.13\"/>\r\n",
       "<polygon fill=\"black\" stroke=\"black\" points=\"54,-96.09 50.5,-86.09 47,-96.09 54,-96.09\"/>\r\n",
       "</g>\r\n",
       "<!-- 2299739079872 -->\r\n",
       "<g id=\"node4\" class=\"node\">\r\n",
       "<title>2299739079872</title>\r\n",
       "<polygon fill=\"lightgrey\" stroke=\"black\" points=\"95,-196 6,-196 6,-177 95,-177 95,-196\"/>\r\n",
       "<text text-anchor=\"middle\" x=\"50.5\" y=\"-184\" font-family=\"monospace\" font-size=\"10.00\">PowBackward0</text>\r\n",
       "</g>\r\n",
       "<!-- 2299739079872&#45;&gt;2299739081072 -->\r\n",
       "<g id=\"edge2\" class=\"edge\">\r\n",
       "<title>2299739079872&#45;&gt;2299739081072</title>\r\n",
       "<path fill=\"none\" stroke=\"black\" d=\"M50.5,-176.75C50.5,-169.8 50.5,-159.85 50.5,-151.13\"/>\r\n",
       "<polygon fill=\"black\" stroke=\"black\" points=\"54,-151.09 50.5,-141.09 47,-151.09 54,-151.09\"/>\r\n",
       "</g>\r\n",
       "<!-- 2299739081360 -->\r\n",
       "<g id=\"node5\" class=\"node\">\r\n",
       "<title>2299739081360</title>\r\n",
       "<polygon fill=\"lightgrey\" stroke=\"black\" points=\"101,-251 0,-251 0,-232 101,-232 101,-251\"/>\r\n",
       "<text text-anchor=\"middle\" x=\"50.5\" y=\"-239\" font-family=\"monospace\" font-size=\"10.00\">AccumulateGrad</text>\r\n",
       "</g>\r\n",
       "<!-- 2299739081360&#45;&gt;2299739079872 -->\r\n",
       "<g id=\"edge3\" class=\"edge\">\r\n",
       "<title>2299739081360&#45;&gt;2299739079872</title>\r\n",
       "<path fill=\"none\" stroke=\"black\" d=\"M50.5,-231.75C50.5,-224.8 50.5,-214.85 50.5,-206.13\"/>\r\n",
       "<polygon fill=\"black\" stroke=\"black\" points=\"54,-206.09 50.5,-196.09 47,-206.09 54,-206.09\"/>\r\n",
       "</g>\r\n",
       "<!-- 2299739257792 -->\r\n",
       "<g id=\"node6\" class=\"node\">\r\n",
       "<title>2299739257792</title>\r\n",
       "<polygon fill=\"lightblue\" stroke=\"black\" points=\"77.5,-318 23.5,-318 23.5,-287 77.5,-287 77.5,-318\"/>\r\n",
       "<text text-anchor=\"middle\" x=\"50.5\" y=\"-294\" font-family=\"monospace\" font-size=\"10.00\"> ()</text>\r\n",
       "</g>\r\n",
       "<!-- 2299739257792&#45;&gt;2299739081360 -->\r\n",
       "<g id=\"edge4\" class=\"edge\">\r\n",
       "<title>2299739257792&#45;&gt;2299739081360</title>\r\n",
       "<path fill=\"none\" stroke=\"black\" d=\"M50.5,-286.92C50.5,-279.22 50.5,-269.69 50.5,-261.43\"/>\r\n",
       "<polygon fill=\"black\" stroke=\"black\" points=\"54,-261.25 50.5,-251.25 47,-261.25 54,-261.25\"/>\r\n",
       "</g>\r\n",
       "</g>\r\n",
       "</svg>\r\n"
      ],
      "text/plain": [
       "<graphviz.dot.Digraph at 0x21773218760>"
      ]
     },
     "execution_count": 39,
     "metadata": {},
     "output_type": "execute_result"
    }
   ],
   "source": [
    "# derivative\n",
    "x = torch.tensor(2.0, requires_grad=True) # requires_grad=True indicates to store gradient\n",
    "\n",
    "print('x =', x)\n",
    "\n",
    "z = 2*(x ** 2) + 3\n",
    "\n",
    "# back-propagation (Obtain gradients using the chain rule)\n",
    "z.backward()\n",
    "print('x.grad =', x.grad)\n",
    "\n",
    "def f1(x):\n",
    "  return x**2\n",
    "\n",
    "def f2(x):\n",
    "  return 2*x+3\n",
    "\n",
    "x.grad = None # reset the previously obtained gradient\n",
    "print('x.grad =', x.grad)\n",
    "\n",
    "z=f2(f1(x))\n",
    "print('z= ', z)\n",
    "\n",
    "# back-propagation (Obtain gradients using the chain rule)\n",
    "z.backward()\n",
    "print('x.grad =', x.grad)\n",
    "\n",
    "# draw a graph of computation of y\n",
    "make_dot(z)\n",
    "\n",
    "# cf.\n",
    "# retain_grad : To retain gradients of intermediate variables\n"
   ]
  },
  {
   "cell_type": "markdown",
   "metadata": {},
   "source": [
    "# Derivative with vector function\n",
    "$x = \\left<x_1, x_2\\right>$\n",
    "\n",
    "$y = \\left<y_1, y_2\\right> = f(x) = \\left<x_1^2+x_2, x_1+x_2^2\\right>$\n",
    "\n",
    "$z = g(y) = 2y_1 + y_2 $\n",
    "\n",
    "$\\left(\\frac{\\partial z}{\\partial x_1},  \\frac{\\partial z}{\\partial x_2} \\right)|_{x=\\left<1, 3\\right>} = \\left(5,  8\\right)$"
   ]
  },
  {
   "cell_type": "code",
   "execution_count": 41,
   "metadata": {},
   "outputs": [
    {
     "name": "stdout",
     "output_type": "stream",
     "text": [
      "tensor([ 4., 10.], grad_fn=<CatBackward>)\n",
      "tensor(18., grad_fn=<AddBackward0>)\n",
      "tensor([5., 8.])\n"
     ]
    },
    {
     "data": {
      "image/svg+xml": [
       "<?xml version=\"1.0\" encoding=\"UTF-8\" standalone=\"no\"?>\r\n",
       "<!DOCTYPE svg PUBLIC \"-//W3C//DTD SVG 1.1//EN\"\r\n",
       " \"http://www.w3.org/Graphics/SVG/1.1/DTD/svg11.dtd\">\r\n",
       "<!-- Generated by graphviz version 2.47.3 (20210619.1520)\r\n",
       " -->\r\n",
       "<!-- Pages: 1 -->\r\n",
       "<svg width=\"405pt\" height=\"601pt\"\r\n",
       " viewBox=\"0.00 0.00 405.00 601.00\" xmlns=\"http://www.w3.org/2000/svg\" xmlns:xlink=\"http://www.w3.org/1999/xlink\">\r\n",
       "<g id=\"graph0\" class=\"graph\" transform=\"scale(1 1) rotate(0) translate(4 597)\">\r\n",
       "<polygon fill=\"white\" stroke=\"transparent\" points=\"-4,4 -4,-597 401,-597 401,4 -4,4\"/>\r\n",
       "<!-- 2299737132416 -->\r\n",
       "<g id=\"node1\" class=\"node\">\r\n",
       "<title>2299737132416</title>\r\n",
       "<polygon fill=\"#caff70\" stroke=\"black\" points=\"230.5,-31 176.5,-31 176.5,0 230.5,0 230.5,-31\"/>\r\n",
       "<text text-anchor=\"middle\" x=\"203.5\" y=\"-7\" font-family=\"monospace\" font-size=\"10.00\"> ()</text>\r\n",
       "</g>\r\n",
       "<!-- 2299739082656 -->\r\n",
       "<g id=\"node2\" class=\"node\">\r\n",
       "<title>2299739082656</title>\r\n",
       "<polygon fill=\"lightgrey\" stroke=\"black\" points=\"248,-86 159,-86 159,-67 248,-67 248,-86\"/>\r\n",
       "<text text-anchor=\"middle\" x=\"203.5\" y=\"-74\" font-family=\"monospace\" font-size=\"10.00\">AddBackward0</text>\r\n",
       "</g>\r\n",
       "<!-- 2299739082656&#45;&gt;2299737132416 -->\r\n",
       "<g id=\"edge21\" class=\"edge\">\r\n",
       "<title>2299739082656&#45;&gt;2299737132416</title>\r\n",
       "<path fill=\"none\" stroke=\"black\" d=\"M203.5,-66.79C203.5,-60.07 203.5,-50.4 203.5,-41.34\"/>\r\n",
       "<polygon fill=\"black\" stroke=\"black\" points=\"207,-41.19 203.5,-31.19 200,-41.19 207,-41.19\"/>\r\n",
       "</g>\r\n",
       "<!-- 2299739079152 -->\r\n",
       "<g id=\"node3\" class=\"node\">\r\n",
       "<title>2299739079152</title>\r\n",
       "<polygon fill=\"lightgrey\" stroke=\"black\" points=\"192,-141 103,-141 103,-122 192,-122 192,-141\"/>\r\n",
       "<text text-anchor=\"middle\" x=\"147.5\" y=\"-129\" font-family=\"monospace\" font-size=\"10.00\">MulBackward0</text>\r\n",
       "</g>\r\n",
       "<!-- 2299739079152&#45;&gt;2299739082656 -->\r\n",
       "<g id=\"edge1\" class=\"edge\">\r\n",
       "<title>2299739079152&#45;&gt;2299739082656</title>\r\n",
       "<path fill=\"none\" stroke=\"black\" d=\"M156.5,-121.98C164.69,-114.23 177.01,-102.58 186.97,-93.14\"/>\r\n",
       "<polygon fill=\"black\" stroke=\"black\" points=\"189.48,-95.59 194.34,-86.17 184.67,-90.5 189.48,-95.59\"/>\r\n",
       "</g>\r\n",
       "<!-- 2299739082368 -->\r\n",
       "<g id=\"node4\" class=\"node\">\r\n",
       "<title>2299739082368</title>\r\n",
       "<polygon fill=\"lightgrey\" stroke=\"black\" points=\"215,-196 114,-196 114,-177 215,-177 215,-196\"/>\r\n",
       "<text text-anchor=\"middle\" x=\"164.5\" y=\"-184\" font-family=\"monospace\" font-size=\"10.00\">SelectBackward</text>\r\n",
       "</g>\r\n",
       "<!-- 2299739082368&#45;&gt;2299739079152 -->\r\n",
       "<g id=\"edge2\" class=\"edge\">\r\n",
       "<title>2299739082368&#45;&gt;2299739079152</title>\r\n",
       "<path fill=\"none\" stroke=\"black\" d=\"M161.69,-176.75C159.44,-169.72 156.2,-159.62 153.38,-150.84\"/>\r\n",
       "<polygon fill=\"black\" stroke=\"black\" points=\"156.64,-149.54 150.25,-141.09 149.98,-151.68 156.64,-149.54\"/>\r\n",
       "</g>\r\n",
       "<!-- 2299739080880 -->\r\n",
       "<g id=\"node5\" class=\"node\">\r\n",
       "<title>2299739080880</title>\r\n",
       "<polygon fill=\"lightgrey\" stroke=\"black\" points=\"245,-251 162,-251 162,-232 245,-232 245,-251\"/>\r\n",
       "<text text-anchor=\"middle\" x=\"203.5\" y=\"-239\" font-family=\"monospace\" font-size=\"10.00\">CatBackward</text>\r\n",
       "</g>\r\n",
       "<!-- 2299739080880&#45;&gt;2299739082368 -->\r\n",
       "<g id=\"edge3\" class=\"edge\">\r\n",
       "<title>2299739080880&#45;&gt;2299739082368</title>\r\n",
       "<path fill=\"none\" stroke=\"black\" d=\"M197.06,-231.75C191.61,-224.34 183.64,-213.5 176.94,-204.41\"/>\r\n",
       "<polygon fill=\"black\" stroke=\"black\" points=\"179.57,-202.07 170.82,-196.09 173.93,-206.22 179.57,-202.07\"/>\r\n",
       "</g>\r\n",
       "<!-- 2299739079200 -->\r\n",
       "<g id=\"node18\" class=\"node\">\r\n",
       "<title>2299739079200</title>\r\n",
       "<polygon fill=\"lightgrey\" stroke=\"black\" points=\"311,-141 210,-141 210,-122 311,-122 311,-141\"/>\r\n",
       "<text text-anchor=\"middle\" x=\"260.5\" y=\"-129\" font-family=\"monospace\" font-size=\"10.00\">SelectBackward</text>\r\n",
       "</g>\r\n",
       "<!-- 2299739080880&#45;&gt;2299739079200 -->\r\n",
       "<g id=\"edge20\" class=\"edge\">\r\n",
       "<title>2299739080880&#45;&gt;2299739079200</title>\r\n",
       "<path fill=\"none\" stroke=\"black\" d=\"M208.16,-231.66C217.56,-213.85 238.93,-173.37 251.26,-150.01\"/>\r\n",
       "<polygon fill=\"black\" stroke=\"black\" points=\"254.36,-151.64 255.93,-141.16 248.17,-148.37 254.36,-151.64\"/>\r\n",
       "</g>\r\n",
       "<!-- 2299739082128 -->\r\n",
       "<g id=\"node6\" class=\"node\">\r\n",
       "<title>2299739082128</title>\r\n",
       "<polygon fill=\"lightgrey\" stroke=\"black\" points=\"195,-306 106,-306 106,-287 195,-287 195,-306\"/>\r\n",
       "<text text-anchor=\"middle\" x=\"150.5\" y=\"-294\" font-family=\"monospace\" font-size=\"10.00\">ViewBackward</text>\r\n",
       "</g>\r\n",
       "<!-- 2299739082128&#45;&gt;2299739080880 -->\r\n",
       "<g id=\"edge4\" class=\"edge\">\r\n",
       "<title>2299739082128&#45;&gt;2299739080880</title>\r\n",
       "<path fill=\"none\" stroke=\"black\" d=\"M159.25,-286.75C166.97,-279.03 178.4,-267.6 187.72,-258.28\"/>\r\n",
       "<polygon fill=\"black\" stroke=\"black\" points=\"190.31,-260.64 194.91,-251.09 185.36,-255.69 190.31,-260.64\"/>\r\n",
       "</g>\r\n",
       "<!-- 2299739078864 -->\r\n",
       "<g id=\"node7\" class=\"node\">\r\n",
       "<title>2299739078864</title>\r\n",
       "<polygon fill=\"lightgrey\" stroke=\"black\" points=\"195,-361 106,-361 106,-342 195,-342 195,-361\"/>\r\n",
       "<text text-anchor=\"middle\" x=\"150.5\" y=\"-349\" font-family=\"monospace\" font-size=\"10.00\">AddBackward0</text>\r\n",
       "</g>\r\n",
       "<!-- 2299739078864&#45;&gt;2299739082128 -->\r\n",
       "<g id=\"edge5\" class=\"edge\">\r\n",
       "<title>2299739078864&#45;&gt;2299739082128</title>\r\n",
       "<path fill=\"none\" stroke=\"black\" d=\"M150.5,-341.75C150.5,-334.8 150.5,-324.85 150.5,-316.13\"/>\r\n",
       "<polygon fill=\"black\" stroke=\"black\" points=\"154,-316.09 150.5,-306.09 147,-316.09 154,-316.09\"/>\r\n",
       "</g>\r\n",
       "<!-- 2299739080352 -->\r\n",
       "<g id=\"node8\" class=\"node\">\r\n",
       "<title>2299739080352</title>\r\n",
       "<polygon fill=\"lightgrey\" stroke=\"black\" points=\"89,-416 0,-416 0,-397 89,-397 89,-416\"/>\r\n",
       "<text text-anchor=\"middle\" x=\"44.5\" y=\"-404\" font-family=\"monospace\" font-size=\"10.00\">PowBackward0</text>\r\n",
       "</g>\r\n",
       "<!-- 2299739080352&#45;&gt;2299739078864 -->\r\n",
       "<g id=\"edge6\" class=\"edge\">\r\n",
       "<title>2299739080352&#45;&gt;2299739078864</title>\r\n",
       "<path fill=\"none\" stroke=\"black\" d=\"M61.53,-396.98C78.43,-388.54 104.56,-375.47 124.14,-365.68\"/>\r\n",
       "<polygon fill=\"black\" stroke=\"black\" points=\"125.78,-368.77 133.16,-361.17 122.65,-362.51 125.78,-368.77\"/>\r\n",
       "</g>\r\n",
       "<!-- 2299739078912 -->\r\n",
       "<g id=\"node9\" class=\"node\">\r\n",
       "<title>2299739078912</title>\r\n",
       "<polygon fill=\"lightgrey\" stroke=\"black\" points=\"112,-471 11,-471 11,-452 112,-452 112,-471\"/>\r\n",
       "<text text-anchor=\"middle\" x=\"61.5\" y=\"-459\" font-family=\"monospace\" font-size=\"10.00\">SelectBackward</text>\r\n",
       "</g>\r\n",
       "<!-- 2299739078912&#45;&gt;2299739080352 -->\r\n",
       "<g id=\"edge7\" class=\"edge\">\r\n",
       "<title>2299739078912&#45;&gt;2299739080352</title>\r\n",
       "<path fill=\"none\" stroke=\"black\" d=\"M58.69,-451.75C56.44,-444.72 53.2,-434.62 50.38,-425.84\"/>\r\n",
       "<polygon fill=\"black\" stroke=\"black\" points=\"53.64,-424.54 47.25,-416.09 46.98,-426.68 53.64,-424.54\"/>\r\n",
       "</g>\r\n",
       "<!-- 2299739078816 -->\r\n",
       "<g id=\"node10\" class=\"node\">\r\n",
       "<title>2299739078816</title>\r\n",
       "<polygon fill=\"lightgrey\" stroke=\"black\" points=\"238,-526 137,-526 137,-507 238,-507 238,-526\"/>\r\n",
       "<text text-anchor=\"middle\" x=\"187.5\" y=\"-514\" font-family=\"monospace\" font-size=\"10.00\">AccumulateGrad</text>\r\n",
       "</g>\r\n",
       "<!-- 2299739078816&#45;&gt;2299739078912 -->\r\n",
       "<g id=\"edge8\" class=\"edge\">\r\n",
       "<title>2299739078816&#45;&gt;2299739078912</title>\r\n",
       "<path fill=\"none\" stroke=\"black\" d=\"M167.26,-506.98C146.8,-498.38 114.97,-484.99 91.57,-475.15\"/>\r\n",
       "<polygon fill=\"black\" stroke=\"black\" points=\"92.69,-471.82 82.11,-471.17 89.97,-478.27 92.69,-471.82\"/>\r\n",
       "</g>\r\n",
       "<!-- 2299739082272 -->\r\n",
       "<g id=\"node12\" class=\"node\">\r\n",
       "<title>2299739082272</title>\r\n",
       "<polygon fill=\"lightgrey\" stroke=\"black\" points=\"208,-416 107,-416 107,-397 208,-397 208,-416\"/>\r\n",
       "<text text-anchor=\"middle\" x=\"157.5\" y=\"-404\" font-family=\"monospace\" font-size=\"10.00\">SelectBackward</text>\r\n",
       "</g>\r\n",
       "<!-- 2299739078816&#45;&gt;2299739082272 -->\r\n",
       "<g id=\"edge11\" class=\"edge\">\r\n",
       "<title>2299739078816&#45;&gt;2299739082272</title>\r\n",
       "<path fill=\"none\" stroke=\"black\" d=\"M182.8,-506.9C178.21,-498.12 171.37,-483.99 167.5,-471 163.16,-456.42 160.61,-439.37 159.17,-426.61\"/>\r\n",
       "<polygon fill=\"black\" stroke=\"black\" points=\"162.61,-425.89 158.14,-416.29 155.65,-426.59 162.61,-425.89\"/>\r\n",
       "</g>\r\n",
       "<!-- 2299739080736 -->\r\n",
       "<g id=\"node15\" class=\"node\">\r\n",
       "<title>2299739080736</title>\r\n",
       "<polygon fill=\"lightgrey\" stroke=\"black\" points=\"278,-471 177,-471 177,-452 278,-452 278,-471\"/>\r\n",
       "<text text-anchor=\"middle\" x=\"227.5\" y=\"-459\" font-family=\"monospace\" font-size=\"10.00\">SelectBackward</text>\r\n",
       "</g>\r\n",
       "<!-- 2299739078816&#45;&gt;2299739080736 -->\r\n",
       "<g id=\"edge15\" class=\"edge\">\r\n",
       "<title>2299739078816&#45;&gt;2299739080736</title>\r\n",
       "<path fill=\"none\" stroke=\"black\" d=\"M194.11,-506.75C199.76,-499.26 208.04,-488.28 214.95,-479.13\"/>\r\n",
       "<polygon fill=\"black\" stroke=\"black\" points=\"217.79,-481.18 221.02,-471.09 212.2,-476.96 217.79,-481.18\"/>\r\n",
       "</g>\r\n",
       "<!-- 2299739081024 -->\r\n",
       "<g id=\"node17\" class=\"node\">\r\n",
       "<title>2299739081024</title>\r\n",
       "<polygon fill=\"lightgrey\" stroke=\"black\" points=\"397,-471 296,-471 296,-452 397,-452 397,-471\"/>\r\n",
       "<text text-anchor=\"middle\" x=\"346.5\" y=\"-459\" font-family=\"monospace\" font-size=\"10.00\">SelectBackward</text>\r\n",
       "</g>\r\n",
       "<!-- 2299739078816&#45;&gt;2299739081024 -->\r\n",
       "<g id=\"edge18\" class=\"edge\">\r\n",
       "<title>2299739078816&#45;&gt;2299739081024</title>\r\n",
       "<path fill=\"none\" stroke=\"black\" d=\"M213.05,-506.98C239.62,-498.13 281.44,-484.19 311.17,-474.28\"/>\r\n",
       "<polygon fill=\"black\" stroke=\"black\" points=\"312.37,-477.56 320.75,-471.08 310.16,-470.92 312.37,-477.56\"/>\r\n",
       "</g>\r\n",
       "<!-- 2299739358272 -->\r\n",
       "<g id=\"node11\" class=\"node\">\r\n",
       "<title>2299739358272</title>\r\n",
       "<polygon fill=\"lightblue\" stroke=\"black\" points=\"214.5,-593 160.5,-593 160.5,-562 214.5,-562 214.5,-593\"/>\r\n",
       "<text text-anchor=\"middle\" x=\"187.5\" y=\"-569\" font-family=\"monospace\" font-size=\"10.00\"> (2)</text>\r\n",
       "</g>\r\n",
       "<!-- 2299739358272&#45;&gt;2299739078816 -->\r\n",
       "<g id=\"edge9\" class=\"edge\">\r\n",
       "<title>2299739358272&#45;&gt;2299739078816</title>\r\n",
       "<path fill=\"none\" stroke=\"black\" d=\"M187.5,-561.92C187.5,-554.22 187.5,-544.69 187.5,-536.43\"/>\r\n",
       "<polygon fill=\"black\" stroke=\"black\" points=\"191,-536.25 187.5,-526.25 184,-536.25 191,-536.25\"/>\r\n",
       "</g>\r\n",
       "<!-- 2299739082272&#45;&gt;2299739078864 -->\r\n",
       "<g id=\"edge10\" class=\"edge\">\r\n",
       "<title>2299739082272&#45;&gt;2299739078864</title>\r\n",
       "<path fill=\"none\" stroke=\"black\" d=\"M156.34,-396.75C155.43,-389.8 154.11,-379.85 152.96,-371.13\"/>\r\n",
       "<polygon fill=\"black\" stroke=\"black\" points=\"156.41,-370.54 151.63,-361.09 149.47,-371.46 156.41,-370.54\"/>\r\n",
       "</g>\r\n",
       "<!-- 2299739082032 -->\r\n",
       "<g id=\"node13\" class=\"node\">\r\n",
       "<title>2299739082032</title>\r\n",
       "<polygon fill=\"lightgrey\" stroke=\"black\" points=\"302,-306 213,-306 213,-287 302,-287 302,-306\"/>\r\n",
       "<text text-anchor=\"middle\" x=\"257.5\" y=\"-294\" font-family=\"monospace\" font-size=\"10.00\">ViewBackward</text>\r\n",
       "</g>\r\n",
       "<!-- 2299739082032&#45;&gt;2299739080880 -->\r\n",
       "<g id=\"edge12\" class=\"edge\">\r\n",
       "<title>2299739082032&#45;&gt;2299739080880</title>\r\n",
       "<path fill=\"none\" stroke=\"black\" d=\"M248.58,-286.75C240.72,-279.03 229.07,-267.6 219.58,-258.28\"/>\r\n",
       "<polygon fill=\"black\" stroke=\"black\" points=\"221.84,-255.6 212.25,-251.09 216.94,-260.59 221.84,-255.6\"/>\r\n",
       "</g>\r\n",
       "<!-- 2299739082704 -->\r\n",
       "<g id=\"node14\" class=\"node\">\r\n",
       "<title>2299739082704</title>\r\n",
       "<polygon fill=\"lightgrey\" stroke=\"black\" points=\"302,-361 213,-361 213,-342 302,-342 302,-361\"/>\r\n",
       "<text text-anchor=\"middle\" x=\"257.5\" y=\"-349\" font-family=\"monospace\" font-size=\"10.00\">AddBackward0</text>\r\n",
       "</g>\r\n",
       "<!-- 2299739082704&#45;&gt;2299739082032 -->\r\n",
       "<g id=\"edge13\" class=\"edge\">\r\n",
       "<title>2299739082704&#45;&gt;2299739082032</title>\r\n",
       "<path fill=\"none\" stroke=\"black\" d=\"M257.5,-341.75C257.5,-334.8 257.5,-324.85 257.5,-316.13\"/>\r\n",
       "<polygon fill=\"black\" stroke=\"black\" points=\"261,-316.09 257.5,-306.09 254,-316.09 261,-316.09\"/>\r\n",
       "</g>\r\n",
       "<!-- 2299739080736&#45;&gt;2299739082704 -->\r\n",
       "<g id=\"edge14\" class=\"edge\">\r\n",
       "<title>2299739080736&#45;&gt;2299739082704</title>\r\n",
       "<path fill=\"none\" stroke=\"black\" d=\"M229.96,-451.66C234.84,-434.09 245.85,-394.45 252.37,-370.95\"/>\r\n",
       "<polygon fill=\"black\" stroke=\"black\" points=\"255.79,-371.73 255.09,-361.16 249.05,-369.86 255.79,-371.73\"/>\r\n",
       "</g>\r\n",
       "<!-- 2299739078960 -->\r\n",
       "<g id=\"node16\" class=\"node\">\r\n",
       "<title>2299739078960</title>\r\n",
       "<polygon fill=\"lightgrey\" stroke=\"black\" points=\"375,-416 286,-416 286,-397 375,-397 375,-416\"/>\r\n",
       "<text text-anchor=\"middle\" x=\"330.5\" y=\"-404\" font-family=\"monospace\" font-size=\"10.00\">PowBackward0</text>\r\n",
       "</g>\r\n",
       "<!-- 2299739078960&#45;&gt;2299739082704 -->\r\n",
       "<g id=\"edge16\" class=\"edge\">\r\n",
       "<title>2299739078960&#45;&gt;2299739082704</title>\r\n",
       "<path fill=\"none\" stroke=\"black\" d=\"M318.77,-396.98C307.77,-389 291.08,-376.88 277.9,-367.31\"/>\r\n",
       "<polygon fill=\"black\" stroke=\"black\" points=\"279.59,-364.21 269.44,-361.17 275.48,-369.88 279.59,-364.21\"/>\r\n",
       "</g>\r\n",
       "<!-- 2299739081024&#45;&gt;2299739078960 -->\r\n",
       "<g id=\"edge17\" class=\"edge\">\r\n",
       "<title>2299739081024&#45;&gt;2299739078960</title>\r\n",
       "<path fill=\"none\" stroke=\"black\" d=\"M343.86,-451.75C341.74,-444.72 338.69,-434.62 336.04,-425.84\"/>\r\n",
       "<polygon fill=\"black\" stroke=\"black\" points=\"339.33,-424.65 333.09,-416.09 332.63,-426.67 339.33,-424.65\"/>\r\n",
       "</g>\r\n",
       "<!-- 2299739079200&#45;&gt;2299739082656 -->\r\n",
       "<g id=\"edge19\" class=\"edge\">\r\n",
       "<title>2299739079200&#45;&gt;2299739082656</title>\r\n",
       "<path fill=\"none\" stroke=\"black\" d=\"M251.34,-121.98C243,-114.23 230.47,-102.58 220.32,-93.14\"/>\r\n",
       "<polygon fill=\"black\" stroke=\"black\" points=\"222.53,-90.42 212.82,-86.17 217.76,-95.54 222.53,-90.42\"/>\r\n",
       "</g>\r\n",
       "</g>\r\n",
       "</svg>\r\n"
      ],
      "text/plain": [
       "<graphviz.dot.Digraph at 0x21773218160>"
      ]
     },
     "execution_count": 41,
     "metadata": {},
     "output_type": "execute_result"
    }
   ],
   "source": [
    "def f1(x):\n",
    "    y1 = x[0] **2+x[1]\n",
    "    y2 = x[0] +x[1]**2\n",
    "    return torch.cat([y1.reshape(1),y2.reshape(1)])\n",
    "\n",
    "def f2(x):\n",
    "    return 2*x[0]+x[1]\n",
    "\n",
    "x = torch.tensor([1,3], dtype=torch.float32, requires_grad=True)\n",
    "print(f1(x))\n",
    "print(f2(f1(x)))\n",
    "\n",
    "z = f2(f1(x))\n",
    "z.backward()\n",
    "print(x.grad)\n",
    "\n",
    "# draw a graph of computation of y\n",
    "make_dot(z)"
   ]
  },
  {
   "cell_type": "markdown",
   "metadata": {
    "id": "tAxsGWEq-R7k"
   },
   "source": [
    "# Higher order derivative\n",
    "\n",
    "$f(x,w) = (x+5w)^2$\n",
    "\n",
    "$f_x(x,w) = \\frac{\\partial}{\\partial x}(x+5w)^2 = 2(x+5w)$\n",
    "\n",
    "$f_w(x,w) = \\frac{\\partial}{\\partial w}(x+5w)^2 = 10(x+5w)$\n",
    "\n",
    "$f_{xx} = \\frac{\\partial f_x}{\\partial x} = 2$\n",
    "\n",
    "$f_{xw} = \\frac{\\partial f_x}{\\partial w} = 10$\n",
    "\n",
    "$f_{wx} = \\frac{\\partial f_w}{\\partial x} = 10$\n",
    "\n",
    "$f_{ww} = \\frac{\\partial f_w}{\\partial w} = 50$"
   ]
  },
  {
   "cell_type": "code",
   "execution_count": 10,
   "metadata": {
    "id": "VA_vdJ7G_fPh"
   },
   "outputs": [
    {
     "name": "stdout",
     "output_type": "stream",
     "text": [
      "fx = tensor(34., grad_fn=<MulBackward0>)\n",
      "fw = tensor(170., grad_fn=<MulBackward0>)\n",
      "x.grad = tensor(2.)\n",
      "w.grad = tensor(10.)\n",
      "x.grad = tensor(10.)\n",
      "w.grad = tensor(50.)\n"
     ]
    }
   ],
   "source": [
    "# higher order derivative\n",
    "x = torch.tensor(2.0, requires_grad=True)\n",
    "w = torch.tensor(3.0, requires_grad=True)\n",
    "\n",
    "def f1(x):\n",
    "  return x**2\n",
    "\n",
    "def f2(x, w):\n",
    "  return x+5*w\n",
    "\n",
    "y=f1(f2(x, w))\n",
    "\n",
    "(fx, fw) = torch.autograd.grad(outputs=y, inputs=(x, w), create_graph=True)\n",
    "print('fx =', fx)\n",
    "print('fw =', fw)\n",
    "\n",
    "fx.backward(retain_graph=True)\n",
    "print('x.grad =', x.grad)\n",
    "print('w.grad =', w.grad)\n",
    "\n",
    "x.grad = None\n",
    "w.grad = None\n",
    "fw.backward()\n",
    "print('x.grad =', x.grad)\n",
    "print('w.grad =', w.grad)"
   ]
  }
 ],
 "metadata": {
  "accelerator": "GPU",
  "colab": {
   "collapsed_sections": [],
   "name": "pytorch_tensor_intro.ipynb",
   "provenance": []
  },
  "kernelspec": {
   "display_name": "Python 3",
   "language": "python",
   "name": "python3"
  },
  "language_info": {
   "codemirror_mode": {
    "name": "ipython",
    "version": 3
   },
   "file_extension": ".py",
   "mimetype": "text/x-python",
   "name": "python",
   "nbconvert_exporter": "python",
   "pygments_lexer": "ipython3",
   "version": "3.8.10"
  }
 },
 "nbformat": 4,
 "nbformat_minor": 1
}
