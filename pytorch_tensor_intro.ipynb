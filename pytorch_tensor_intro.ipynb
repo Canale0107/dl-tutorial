{
  "nbformat": 4,
  "nbformat_minor": 0,
  "metadata": {
    "colab": {
      "name": "pytorch_tensor_intro.ipynb",
      "provenance": [],
      "collapsed_sections": []
    },
    "kernelspec": {
      "name": "python3",
      "display_name": "Python 3"
    },
    "language_info": {
      "name": "python"
    },
    "accelerator": "GPU"
  },
  "cells": [
    {
      "cell_type": "markdown",
      "metadata": {
        "id": "jEleuBBpyytD"
      },
      "source": [
        "2021 Takahiro Shinozaki @ Tokyo Tech\n",
        "\n",
        "Quick introduction of pytorch tensor and gradient calculation\n",
        "\n",
        "References: \n",
        "*   https://pytorch.org/tutorials/\n",
        "\n"
      ]
    },
    {
      "cell_type": "code",
      "metadata": {
        "id": "uYQtTNDy5Btd"
      },
      "source": [
        "import torch\n",
        "import torch.nn as nn\n",
        "from matplotlib import pyplot"
      ],
      "execution_count": null,
      "outputs": []
    },
    {
      "cell_type": "code",
      "metadata": {
        "id": "Td_teMPo52EE"
      },
      "source": [
        "if torch.cuda.is_available():\n",
        "    print('CUDA（GPU）is available')\n",
        "else:\n",
        "  print('CUDA（GPU）is not available')"
      ],
      "execution_count": null,
      "outputs": []
    },
    {
      "cell_type": "code",
      "metadata": {
        "id": "0WuRawD56TOT"
      },
      "source": [
        "# scalar \n",
        "x = torch.tensor(7)\n",
        "print('x =', x)\n",
        "\n",
        "y = x**2+1\n",
        "print('y =', y)\n",
        "\n",
        "x = torch.tensor(1.0)\n",
        "y = torch.exp(x)\n",
        "print('y =', y)\n",
        "\n",
        "y = torch.cos(x)\n",
        "print('y =', y)"
      ],
      "execution_count": null,
      "outputs": []
    },
    {
      "cell_type": "code",
      "metadata": {
        "id": "HX5vZKCBsjzZ"
      },
      "source": [
        "# data type\n",
        "x = torch.tensor(1)\n",
        "print(x.dtype)\n",
        "\n",
        "x = torch.tensor(1.0)\n",
        "print(x.dtype)\n",
        "\n",
        "x = torch.tensor(1.0, dtype=torch.float64)\n",
        "print(x.dtype)"
      ],
      "execution_count": null,
      "outputs": []
    },
    {
      "cell_type": "code",
      "metadata": {
        "id": "snuMqMBFnn0B"
      },
      "source": [
        "# vector\n",
        "x = torch.tensor([1,2,3,4,5], dtype=torch.float32)\n",
        "print('x =',x)\n",
        "print('x**0.5 =', x**0.5)\n",
        "x = torch.linspace(0,10,41)\n",
        "print('x =', x)\n",
        "y = torch.cos(x)\n",
        "pyplot.plot(x, y)\n",
        "pyplot.xlabel('x')\n",
        "pyplot.ylabel('cos(x)')\n",
        "pyplot.grid()\n",
        "pyplot.show()"
      ],
      "execution_count": null,
      "outputs": []
    },
    {
      "cell_type": "code",
      "metadata": {
        "id": "EdPif6XaowD3"
      },
      "source": [
        "# matrix\n",
        "x = torch.tensor([[1,2],[3,4]])\n",
        "print(x)\n",
        "print(x.dtype)\n",
        "\n",
        "y = x * 2\n",
        "print(y)\n",
        "\n",
        "y= x * x\n",
        "print(y)\n",
        "\n",
        "y = torch.mm(x, x)\n",
        "print('y =', y)\n",
        "\n",
        "x = torch.tensor([[1.0,2.0],[3.0,4.0]])\n",
        "b=torch.tensor([[10],[10]],dtype=torch.float32)\n",
        "print(x)\n",
        "print(x.dtype)\n",
        "print(b)\n",
        "print(b.dtype)\n",
        "\n",
        "y = torch.mm(x, b)\n",
        "print(y)\n",
        "\n",
        "y = torch.transpose(x, 0, 1)\n",
        "print(y)"
      ],
      "execution_count": null,
      "outputs": []
    },
    {
      "cell_type": "code",
      "metadata": {
        "id": "XbFSRerVxcSL"
      },
      "source": [
        "# function\n",
        "def f1(x1, x2):\n",
        "  return 2*x1+x2\n",
        "\n",
        "a = torch.tensor(1.0)\n",
        "b = torch.tensor(2.5)\n",
        "print(f1(a,b))\n",
        "\n",
        "def f2(x):\n",
        "  return x**2-3\n",
        "\n",
        "x = torch.tensor(4.0)\n",
        "print('x =', x)\n",
        "print('f2(x) =', f2(x))\n",
        "\n",
        "x = torch.linspace(-10,10,21)\n",
        "print('x =', x)\n",
        "print('f2(x) =', f2(x))\n",
        "pyplot.plot(x, f2(x))\n",
        "pyplot.grid()\n",
        "pyplot.show()\n",
        "\n"
      ],
      "execution_count": null,
      "outputs": []
    },
    {
      "cell_type": "code",
      "metadata": {
        "id": "wsqZaU8SxTYO"
      },
      "source": [
        "# library to visualize the strucure of computation\n",
        "! pip install torchviz\n",
        "from torchviz import make_dot  "
      ],
      "execution_count": null,
      "outputs": []
    },
    {
      "cell_type": "markdown",
      "metadata": {
        "id": "DR5Hm5th2p2Z"
      },
      "source": [
        "Derivative\n",
        "\n",
        "$\\frac{\\partial}{\\partial x}(x^2+3)|_{x=2} = 2x |_{x=2} = 4$\n",
        "\n",
        "$\\frac{\\partial}{\\partial x}(x+5w)^2|_{x=2,w=3} = 2(x+5w) |_{x=2,w=3} = 34$\n",
        "\n",
        "$\\frac{\\partial}{\\partial w}(x+5w)^2|_{x=2,w=3} = 10(x+5w) |_{x=2,w=3} = 170$"
      ]
    },
    {
      "cell_type": "code",
      "metadata": {
        "id": "GBAEmqw3yq-a"
      },
      "source": [
        "# derivative\n",
        "x = torch.tensor(2.0, requires_grad=True) # requires_grad=True indicates to store gradient\n",
        "w = torch.tensor(3.0, requires_grad=True)\n",
        "\n",
        "print('x =', x)\n",
        "print('w =', w)\n",
        "\n",
        "y = x ** 2 + 3\n",
        "\n",
        "# back-propagation (Obtain gradients using the chain rule)\n",
        "y.backward()\n",
        "print('x.grad =', x.grad)\n",
        "\n",
        "def f1(x):\n",
        "  return x**2\n",
        "\n",
        "def f2(x, w):\n",
        "  return x+5*w\n",
        "\n",
        "x.grad = None # reset the previously obtained gradient\n",
        "print('x.grad =', x.grad)\n",
        "\n",
        "y=f1(f2(x, w))\n",
        "print('y= ', y)\n",
        "\n",
        "# back-propagation (Obtain gradients using the chain rule)\n",
        "y.backward()\n",
        "print('x.grad =', x.grad)\n",
        "print('w.grad =', w.grad)\n",
        "\n",
        "# draw a graph of computation of y\n",
        "make_dot(y)\n",
        "\n",
        "# cf.\n",
        "# retain_grad : To retain gradients of intermediate variables\n"
      ],
      "execution_count": null,
      "outputs": []
    },
    {
      "cell_type": "markdown",
      "metadata": {
        "id": "tAxsGWEq-R7k"
      },
      "source": [
        "higher order derivative\n",
        "\n",
        "$f(x,w) = (x+5w)^2$\n",
        "\n",
        "$f_x(x,w) = \\frac{\\partial}{\\partial x}(x+5w)^2 = 2(x+5w)$\n",
        "\n",
        "$f_w(x,w) = \\frac{\\partial}{\\partial w}(x+5w)^2 = 10(x+5w)$\n",
        "\n",
        "$f_{xx} = \\frac{\\partial f_x}{\\partial x} = 2$\n",
        "\n",
        "$f_{xw} = \\frac{\\partial f_x}{\\partial w} = 10$\n",
        "\n",
        "$f_{wx} = \\frac{\\partial f_w}{\\partial x} = 10$\n",
        "\n",
        "$f_{ww} = \\frac{\\partial f_w}{\\partial w} = 50$"
      ]
    },
    {
      "cell_type": "code",
      "metadata": {
        "id": "VA_vdJ7G_fPh"
      },
      "source": [
        "# higher order derivative\n",
        "x = torch.tensor(2.0, requires_grad=True)\n",
        "w = torch.tensor(3.0, requires_grad=True)\n",
        "\n",
        "def f1(x):\n",
        "  return x**2\n",
        "\n",
        "def f2(x, w):\n",
        "  return x+5*w\n",
        "\n",
        "y=f1(f2(x, w))\n",
        "\n",
        "(fx, fw) = torch.autograd.grad(outputs=y, inputs=(x, w), create_graph=True)\n",
        "print('fx =', fx)\n",
        "print('fw =', fw)\n",
        "\n",
        "fx.backward(retain_graph=True)\n",
        "print('x.grad =', x.grad)\n",
        "print('w.grad =', w.grad)\n",
        "\n",
        "x.grad = None\n",
        "w.grad = None\n",
        "fw.backward()\n",
        "print('x.grad =', x.grad)\n",
        "print('w.grad =', w.grad)"
      ],
      "execution_count": null,
      "outputs": []
    }
  ]
}